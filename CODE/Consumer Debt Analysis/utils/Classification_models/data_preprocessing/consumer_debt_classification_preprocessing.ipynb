{
  "cells": [
    {
      "cell_type": "markdown",
      "source": [
        "**Pre-processing**"
      ],
      "metadata": {
        "nteract": {
          "transient": {
            "deleting": false
          }
        },
        "id": "Tk0iz7ZX3sDB"
      }
    },
    {
      "cell_type": "code",
      "source": [
        "import pandas as pd\n",
        "import numpy as np\n",
        "\n",
        "from azureml.core import Workspace, Dataset, Datastore\n",
        "\n",
        "subscription_id = 'ed832b48-cccf-4631-b142-e5630bd79da1'\n",
        "resource_group = 'Resource_Group_1'\n",
        "workspace_name = 'Workspace1'\n",
        "\n",
        "workspace = Workspace(subscription_id, resource_group, workspace_name)\n",
        "datastore = Datastore.get(workspace, 'workspaceblobstore')\n",
        "\n",
        "dataset = Dataset.get_by_name(workspace, name='account_df')\n",
        "# dataset2 = Dataset.get_by_name(workspace, name='payment')\n",
        "\n",
        "account_df = dataset.to_pandas_dataframe()\n",
        "# payment_df = dataset2.to_pandas_dataframe()\n",
        "\n",
        "\n",
        "# file1_path = '/content/drive/MyDrive/consumer_debt/account.csv'\n",
        "# file2_path = '/content/drive/MyDrive/consumer_debt/payments.csv'\n",
        "\n",
        "\n",
        "# account_df = pd.read_csv(file1_path)\n",
        "# payment_df = pd.read_csv(file2_path)"
      ],
      "outputs": [],
      "execution_count": 76,
      "metadata": {
        "gather": {
          "logged": 1712513959352
        },
        "id": "yo4WLZKa3sDC"
      }
    },
    {
      "cell_type": "code",
      "source": [
        "# Convert to datetime\n",
        "account_df['chargeoff_date_bom'] = pd.to_datetime(account_df['chargeoff_date_bom'], dayfirst=True)\n",
        "account_df['judgment_date'] = pd.to_datetime(account_df['judgment_date'], dayfirst=True)\n",
        "account_df['min_pay_date'] = pd.to_datetime(account_df['min_pay_date'], dayfirst=True)\n",
        "account_df['max_pay_date'] = pd.to_datetime(account_df['max_pay_date'], dayfirst=True)\n",
        "account_df['consumer_dob'] = pd.to_datetime(account_df['consumer_dob'], dayfirst=True)\n",
        "\n",
        "# payment_df['pay_date'] = pd.to_datetime(payment_df['pay_date'], dayfirst=True)"
      ],
      "outputs": [],
      "execution_count": 77,
      "metadata": {
        "jupyter": {
          "source_hidden": false,
          "outputs_hidden": false
        },
        "nteract": {
          "transient": {
            "deleting": false
          }
        },
        "gather": {
          "logged": 1712513959455
        },
        "id": "MDi1ccEm3sDD"
      }
    },
    {
      "cell_type": "markdown",
      "source": [
        "**Adjustment in account dataset**"
      ],
      "metadata": {
        "nteract": {
          "transient": {
            "deleting": false
          }
        },
        "id": "kX7MQr8n3sDD"
      }
    },
    {
      "cell_type": "code",
      "source": [
        "# params\n",
        "# current_date = pd.Timestamp('2024-02-21')  # dataset extraction cutoff\n",
        "cutoff_date = pd.Timestamp('2019-02-21')  # dataset ready cutoff\n",
        "# cutoff_days = 1826 # 5 years\n",
        "# legal_age_min = 16 # add lower limit\n",
        "# legal_age_max = 65 # add upper limit\n",
        "# placeholder_date = pd.Timestamp('1970-01-01')\n",
        "\n",
        "# failure_days = 1825  # if account is still open, but last chargement/ judgement/ payment is beyond this # of days\n",
        "\n"
      ],
      "outputs": [],
      "execution_count": 79,
      "metadata": {
        "jupyter": {
          "source_hidden": false,
          "outputs_hidden": false
        },
        "nteract": {
          "transient": {
            "deleting": false
          }
        },
        "gather": {
          "logged": 1712513959659
        },
        "id": "cr_LHpKj3sDE"
      }
    },
    {
      "cell_type": "code",
      "source": [
        "# Payment amount total to charegoff amount ratio\n",
        "account_df['avg_pay_to_chargeoff_ratio'] = account_df['avg_pay_amount'] / account_df['chargeoffamt']\n",
        "# division by zero or nan\n",
        "account_df['avg_pay_to_chargeoff_ratio'] = account_df['avg_pay_to_chargeoff_ratio'].replace([np.inf, -np.inf], np.nan)\n",
        "\n",
        "# Payment amount total to judgment amount ratio\n",
        "account_df['avg_pay_to_judgment_ratio'] = account_df['avg_pay_amount'] / account_df['judgment_amount']\n",
        "# division by zero or nan\n",
        "account_df['avg_pay_to_judgment_ratio'] = account_df['avg_pay_to_judgment_ratio'].replace([np.inf, -np.inf], np.nan)\n",
        "\n",
        "# print((account_df['diff_first_repay_chargeoff'] == 0).sum())"
      ],
      "outputs": [],
      "execution_count": 87,
      "metadata": {
        "jupyter": {
          "source_hidden": false,
          "outputs_hidden": false
        },
        "nteract": {
          "transient": {
            "deleting": false
          }
        },
        "gather": {
          "logged": 1712513960488
        },
        "colab": {
          "base_uri": "https://localhost:8080/"
        },
        "id": "ukBfz_C_3sDF",
        "outputId": "b5aab15b-8a97-4b72-eaec-649d2dceb17c"
      }
    },
    {
      "cell_type": "markdown",
      "source": [
        "**[obj1] “What are the demographic and\n",
        "macroeconomic features that are significant in\n",
        "predicting whether or not a consumer begins\n",
        "repayment of a debt within 5 years of an initial\n",
        "chargeoff date?”**"
      ],
      "metadata": {
        "nteract": {
          "transient": {
            "deleting": false
          }
        },
        "id": "juT2uFsa3sDF"
      }
    },
    {
      "cell_type": "code",
      "source": [
        "# Target variable for [obj1]: Boolean variable on whether an account receives an initial repayment of a debt\n",
        "# within 5 years of an initial chargeoff date\n",
        "account_df['chargeoff_cutoff'] = account_df['chargeoff_date_bom'].apply(lambda x: 'Before' if x <= cutoff_date else 'After' if x >= cutoff_date else 'N/A')\n"
      ],
      "outputs": [],
      "execution_count": 88,
      "metadata": {
        "jupyter": {
          "source_hidden": false,
          "outputs_hidden": false
        },
        "nteract": {
          "transient": {
            "deleting": false
          }
        },
        "gather": {
          "logged": 1712513960615
        },
        "id": "sxPq6Ces3sDF"
      }
    },
    {
      "cell_type": "markdown",
      "source": [
        "**[subobj1] “Given that a consumer has begun\n",
        "repayment within 5 years, what is the\n",
        "probability of that debt being satisfactorily\n",
        "repaid (paid-in-full or settled-in-full) within 5\n",
        "years of that initial payment?\"**"
      ],
      "metadata": {
        "nteract": {
          "transient": {
            "deleting": false
          }
        },
        "id": "263PcAgn3sDG"
      }
    },
    {
      "cell_type": "code",
      "source": [
        "# Target variable for [subobj1]: Boolean variable on whether an account is being satisfactorily repaid (paid-in-full or settled-in-full)\n",
        "# within 5 years of its initial repayment date\n",
        "# account_df['first_repayment_date'] = pd.to_datetime(account_df['first_repayment_date'])\n",
        "account_df['1stpay_cutoff'] = account_df['min_pay_date'].apply(lambda x: 'Before' if x <= cutoff_date else 'After' )\n",
        "# NA if there is no first repayment date\n",
        "account_df.loc[account_df['min_pay_date'].isnull(), '1stpay_cutoff'] = 'N/A'\n",
        "\n",
        "# NA if first repayment date is smaller than last repayment date\n",
        "# account_df.loc[account_df['first_repayment_date'] > account_df['last_repayment_date'], '1stpay_cutoff'] = 'N/A'\n"
      ],
      "outputs": [],
      "execution_count": 91,
      "metadata": {
        "jupyter": {
          "source_hidden": false,
          "outputs_hidden": false
        },
        "nteract": {
          "transient": {
            "deleting": false
          }
        },
        "gather": {
          "logged": 1712513960975
        },
        "id": "Rk5f_E4I3sDG"
      }
    },
    {
      "cell_type": "markdown",
      "source": [
        "**Remove unwanted columns**"
      ],
      "metadata": {
        "nteract": {
          "transient": {
            "deleting": false
          }
        },
        "id": "1zDcVH0n3sDG"
      }
    },
    {
      "cell_type": "code",
      "source": [
        "print(account_df.columns.tolist())\n",
        "\n",
        "\n",
        "obj1_columns = ['region', 'working_age', 'purchasegroup', \\\n",
        "'chargeoffamt', 'chargeoffamt_present', 'judgment_active', 'acct_post_judgment', 'judgment_amount', 'judgment_amount_present', 'days_between_chargeoff_and_judgment', \\\n",
        "'agency_ever', 'legal_ever', 'wage_garnishable_state', 'bank_account_found', 'FT_job_found', 'PT_job_found', 'verification_completed', 'contains_judgment_image', \\\n",
        "'min_payment_within_5_years_of_chargeoff']\n",
        "\n",
        "# any payment related columns are removed. this is because any payment related info is the same as telling the model the answer, i.e. they exist if a payment has been made\n",
        "\n",
        "subobj1_columns = ['region', 'working_age', 'purchasegroup', \\\n",
        "'chargeoffamt', 'chargeoffamt_present', 'judgment_active', 'acct_post_judgment', 'judgment_amount', 'judgment_amount_present', 'days_between_chargeoff_and_judgment', \\\n",
        "'agency_ever', 'legal_ever', 'wage_garnishable_state', 'bank_account_found', 'FT_job_found', 'PT_job_found', 'verification_completed', 'contains_judgment_image', \\\n",
        "'days_between_chargeoff_and_min_pay_date', 'days_between_judgment_and_min_pay_date', \\\n",
        "'avg_days_between_payments', 'avg_monthly_payment(duration>=365days)', \\\n",
        "'avg_pay_to_chargeoff_ratio', 'avg_pay_to_judgment_ratio', \\\n",
        "'closed_w_max_pmt_within_5_yrs_of_min_pmt']\n",
        "\n",
        "# Anything clearly closure is removed\n",
        "\n",
        "\n",
        "# remove first repayment date smaller than chargeoff date (diff_first_repay_chargeoff < 0), apply for both models\n",
        "# account_df = account_df[(account_df['diff_first_repay_chargeoff'] >= 0) | (account_df['first_repayment_date'] == placeholder_date)]\n",
        "\n",
        "df_1stpay_5yr_chargeoff = account_df.copy()\n",
        "\n",
        "df_1stpay_5yr_chargeoff_train = df_1stpay_5yr_chargeoff[df_1stpay_5yr_chargeoff['chargeoff_cutoff'] == 'Before'][obj1_columns]\n",
        "# df_1stpay_5yr_chargeoff_train_prob = df_1stpay_5yr_chargeoff_train.drop('min_payment_within_5_years_of_chargeoff', axis=1)\n",
        "df_1stpay_5yr_chargeoff_predict_temp = df_1stpay_5yr_chargeoff[df_1stpay_5yr_chargeoff['chargeoff_cutoff'] == 'After'][obj1_columns]\n",
        "df_1stpay_5yr_chargeoff_predict = df_1stpay_5yr_chargeoff_predict_temp.drop('min_payment_within_5_years_of_chargeoff', axis=1)\n",
        "\n",
        "\n",
        "# Remove rows where 1stpay_cutoff is 'N/A'\n",
        "df_close_5yr_1stpay = account_df[account_df['1stpay_cutoff'] != 'N/A']\n",
        "df_close_5yr_1stpay['closed_w_max_pmt_within_5_yrs_of_min_pmt'] = df_close_5yr_1stpay['closed_w_max_pmt_within_5_yrs_of_min_pmt'].astype('Int64')\n",
        "\n",
        "df_close_5yr_1stpay_train = df_close_5yr_1stpay[df_close_5yr_1stpay['1stpay_cutoff'] == 'Before'][subobj1_columns]\n",
        "# df_close_5yr_1stpay_train_prob = df_close_5yr_1stpay_train.drop('t_close_5yr_1stpay', axis=1)\n",
        "df_close_5yr_1stpay_predict_temp = df_close_5yr_1stpay[df_close_5yr_1stpay['1stpay_cutoff'] == 'After'][subobj1_columns]\n",
        "df_close_5yr_1stpay_predict = df_close_5yr_1stpay_predict_temp.drop('closed_w_max_pmt_within_5_yrs_of_min_pmt', axis=1)\n",
        "\n",
        "\n",
        "# full:\n",
        "# ['data_id', 'region', 'data_state', 'account_status', 'purchasegroup', 'consumer_dob', 'chargeoff_age', 'working_age', \n",
        "# 'agency_ever', 'legal_ever', 'wage_garnishable_state', 'bank_account_found', 'FT_job_found', 'PT_job_found', 'verification_completed', 'contains_judgment_image', \n",
        "# 'data_bal_total', 'chargeoff_date', 'chargeoff_date_bom', 'chargeoffamt', 'chargeoffamt_present', \n",
        "# 'judgment_status', 'judgment_active', 'acct_post_judgment', 'judgment_date', 'days_between_chargeoff_and_judgment', 'judgment_amount', 'judgment_amount_present', \n",
        "# 'chargeoff_precovid(2020-03-01)', 'judgment_precovid(2020-03-01)', \n",
        "# 'total_transactions', 'num_payments', 'num_reversals', 'net_num_payments', 'sum_pay_amount', 'avg_pay_amount', \n",
        "# 'min_pay_date', 'max_pay_date', 'payment_duration_days', 'avg_days_between_payments', 'avg_monthly_payment(duration>=365days)', \n",
        "# 'days_between_chargeoff_and_min_pay_date', 'days_between_chargeoff_and_max_pay_date', 'days_between_judgment_and_min_pay_date', 'days_between_judgment_and_max_pay_date', \n",
        "# 'min_payment_within_5_years_of_chargeoff', 'closed_w_max_pmt_within_5_yrs_of_min_pmt', 'max_pmt_within_5_yrs_of_min_pmt_within_5_yrs_of_chargeoff', \n",
        "# 'avg_pay_to_chargeoff_ratio', 'avg_pay_to_judgment_ratio', 'chargeoff_cutoff', '1stpay_cutoff']\n",
        "# '''"
      ],
      "outputs": [
        {
          "output_type": "stream",
          "name": "stdout",
          "text": "['data_id', 'region', 'data_state', 'account_status', 'purchasegroup', 'consumer_dob', 'chargeoff_age', 'working_age', 'agency_ever', 'legal_ever', 'wage_garnishable_state', 'bank_account_found', 'FT_job_found', 'PT_job_found', 'verification_completed', 'contains_judgment_image', 'data_bal_total', 'chargeoff_date', 'chargeoff_date_bom', 'chargeoffamt', 'chargeoffamt_present', 'judgment_status', 'judgment_active', 'acct_post_judgment', 'judgment_date', 'days_between_chargeoff_and_judgment', 'judgment_amount', 'judgment_amount_present', 'chargeoff_precovid(2020-03-01)', 'judgment_precovid(2020-03-01)', 'total_transactions', 'num_payments', 'num_reversals', 'net_num_payments', 'sum_pay_amount', 'avg_pay_amount', 'min_pay_date', 'max_pay_date', 'payment_duration_days', 'avg_days_between_payments', 'avg_monthly_payment(duration>=365days)', 'days_between_chargeoff_and_min_pay_date', 'days_between_chargeoff_and_max_pay_date', 'days_between_judgment_and_min_pay_date', 'days_between_judgment_and_max_pay_date', 'min_payment_within_5_years_of_chargeoff', 'closed_w_max_pmt_within_5_yrs_of_min_pmt', 'max_pmt_within_5_yrs_of_min_pmt_within_5_yrs_of_chargeoff', 'avg_pay_to_chargeoff_ratio', 'avg_pay_to_judgment_ratio', 'chargeoff_cutoff', '1stpay_cutoff']\n"
        },
        {
          "output_type": "stream",
          "name": "stderr",
          "text": "/tmp/ipykernel_4165/2549476332.py:35: SettingWithCopyWarning: \nA value is trying to be set on a copy of a slice from a DataFrame.\nTry using .loc[row_indexer,col_indexer] = value instead\n\nSee the caveats in the documentation: https://pandas.pydata.org/pandas-docs/stable/user_guide/indexing.html#returning-a-view-versus-a-copy\n  df_close_5yr_1stpay['closed_w_max_pmt_within_5_yrs_of_min_pmt'] = df_close_5yr_1stpay['closed_w_max_pmt_within_5_yrs_of_min_pmt'].astype('Int64')\n"
        }
      ],
      "execution_count": 94,
      "metadata": {
        "jupyter": {
          "source_hidden": false,
          "outputs_hidden": false
        },
        "nteract": {
          "transient": {
            "deleting": false
          }
        },
        "gather": {
          "logged": 1712513961271
        },
        "colab": {
          "base_uri": "https://localhost:8080/",
          "height": 142
        },
        "id": "4_3iJRTa3sDH",
        "outputId": "8423666d-73ab-4acb-c66f-a160178cf010"
      }
    },
    {
      "cell_type": "markdown",
      "source": [
        "**Saving output**"
      ],
      "metadata": {
        "nteract": {
          "transient": {
            "deleting": false
          }
        },
        "id": "3ZCfxeKt3sDH"
      }
    },
    {
      "cell_type": "code",
      "source": [
        "from contextlib import suppress\n",
        "\n",
        "def boolean_conversion(df):\n",
        "    with suppress(KeyError):\n",
        "        df['working_age'] = df['working_age'].astype('Int64')\n",
        "        df['agency_ever'] = df['agency_ever'].astype('Int64')\n",
        "        df['legal_ever'] = df['legal_ever'].astype('Int64')\n",
        "        df['wage_garnishable_state'] = df['wage_garnishable_state'].astype('Int64')\n",
        "        df['bank_account_found'] = df['bank_account_found'].astype('Int64')\n",
        "        df['FT_job_found'] = df['FT_job_found'].astype('Int64')\n",
        "        df['PT_job_found'] = df['PT_job_found'].astype('Int64')\n",
        "        df['verification_completed'] = df['verification_completed'].astype('Int64')\n",
        "        df['contains_judgment_image'] = df['contains_judgment_image'].astype('Int64')\n",
        "        df['chargeoffamt_present'] = df['chargeoffamt_present'].astype('Int64')\n",
        "        df['judgment_active'] = df['judgment_active'].astype('Int64')\n",
        "        df['acct_post_judgment'] = df['acct_post_judgment'].astype('Int64')\n",
        "        df['judgment_amount_present'] = df['judgment_amount_present'].astype('Int64')\n",
        "        df['chargeoff_precovid(2020-03-01)'] = df['chargeoff_precovid(2020-03-01)'].astype('Int64')\n",
        "        df['judgment_precovid(2020-03-01)'] = df['judgment_precovid(2020-03-01)'].astype('Int64')\n",
        "        df['min_payment_within_5_years_of_chargeoff'] = df['min_payment_within_5_years_of_chargeoff'].astype('Int64')\n",
        "        df['closed_w_max_pmt_within_5_yrs_of_min_pmt'] = df['closed_w_max_pmt_within_5_yrs_of_min_pmt'].astype('Int64')\n",
        "        df['max_pmt_within_5_yrs_of_min_pmt_within_5_yrs_of_chargeoff'] = df['max_pmt_within_5_yrs_of_min_pmt_within_5_yrs_of_chargeoff'].astype('Int64')\n",
        "\n",
        "        \n",
        "\n",
        "boolean_conversion(account_df)\n",
        "\n",
        "boolean_conversion(df_1stpay_5yr_chargeoff)\n",
        "boolean_conversion(df_1stpay_5yr_chargeoff_train)\n",
        "boolean_conversion(df_1stpay_5yr_chargeoff_predict)\n",
        "# boolean_conversion(df_1stpay_5yr_chargeoff_train_prob)\n",
        "\n",
        "boolean_conversion(df_close_5yr_1stpay)\n",
        "boolean_conversion(df_close_5yr_1stpay_train)\n",
        "boolean_conversion(df_close_5yr_1stpay_predict)\n",
        "# boolean_conversion(df_close_5yr_1stpay_train_prob)"
      ],
      "outputs": [
        {
          "output_type": "stream",
          "name": "stderr",
          "text": "/tmp/ipykernel_4165/3952862573.py:5: SettingWithCopyWarning: \nA value is trying to be set on a copy of a slice from a DataFrame.\nTry using .loc[row_indexer,col_indexer] = value instead\n\nSee the caveats in the documentation: https://pandas.pydata.org/pandas-docs/stable/user_guide/indexing.html#returning-a-view-versus-a-copy\n  df['working_age'] = df['working_age'].astype('Int64')\n/tmp/ipykernel_4165/3952862573.py:6: SettingWithCopyWarning: \nA value is trying to be set on a copy of a slice from a DataFrame.\nTry using .loc[row_indexer,col_indexer] = value instead\n\nSee the caveats in the documentation: https://pandas.pydata.org/pandas-docs/stable/user_guide/indexing.html#returning-a-view-versus-a-copy\n  df['agency_ever'] = df['agency_ever'].astype('Int64')\n/tmp/ipykernel_4165/3952862573.py:7: SettingWithCopyWarning: \nA value is trying to be set on a copy of a slice from a DataFrame.\nTry using .loc[row_indexer,col_indexer] = value instead\n\nSee the caveats in the documentation: https://pandas.pydata.org/pandas-docs/stable/user_guide/indexing.html#returning-a-view-versus-a-copy\n  df['legal_ever'] = df['legal_ever'].astype('Int64')\n/tmp/ipykernel_4165/3952862573.py:8: SettingWithCopyWarning: \nA value is trying to be set on a copy of a slice from a DataFrame.\nTry using .loc[row_indexer,col_indexer] = value instead\n\nSee the caveats in the documentation: https://pandas.pydata.org/pandas-docs/stable/user_guide/indexing.html#returning-a-view-versus-a-copy\n  df['wage_garnishable_state'] = df['wage_garnishable_state'].astype('Int64')\n/tmp/ipykernel_4165/3952862573.py:9: SettingWithCopyWarning: \nA value is trying to be set on a copy of a slice from a DataFrame.\nTry using .loc[row_indexer,col_indexer] = value instead\n\nSee the caveats in the documentation: https://pandas.pydata.org/pandas-docs/stable/user_guide/indexing.html#returning-a-view-versus-a-copy\n  df['bank_account_found'] = df['bank_account_found'].astype('Int64')\n/tmp/ipykernel_4165/3952862573.py:10: SettingWithCopyWarning: \nA value is trying to be set on a copy of a slice from a DataFrame.\nTry using .loc[row_indexer,col_indexer] = value instead\n\nSee the caveats in the documentation: https://pandas.pydata.org/pandas-docs/stable/user_guide/indexing.html#returning-a-view-versus-a-copy\n  df['FT_job_found'] = df['FT_job_found'].astype('Int64')\n/tmp/ipykernel_4165/3952862573.py:11: SettingWithCopyWarning: \nA value is trying to be set on a copy of a slice from a DataFrame.\nTry using .loc[row_indexer,col_indexer] = value instead\n\nSee the caveats in the documentation: https://pandas.pydata.org/pandas-docs/stable/user_guide/indexing.html#returning-a-view-versus-a-copy\n  df['PT_job_found'] = df['PT_job_found'].astype('Int64')\n/tmp/ipykernel_4165/3952862573.py:12: SettingWithCopyWarning: \nA value is trying to be set on a copy of a slice from a DataFrame.\nTry using .loc[row_indexer,col_indexer] = value instead\n\nSee the caveats in the documentation: https://pandas.pydata.org/pandas-docs/stable/user_guide/indexing.html#returning-a-view-versus-a-copy\n  df['verification_completed'] = df['verification_completed'].astype('Int64')\n/tmp/ipykernel_4165/3952862573.py:13: SettingWithCopyWarning: \nA value is trying to be set on a copy of a slice from a DataFrame.\nTry using .loc[row_indexer,col_indexer] = value instead\n\nSee the caveats in the documentation: https://pandas.pydata.org/pandas-docs/stable/user_guide/indexing.html#returning-a-view-versus-a-copy\n  df['contains_judgment_image'] = df['contains_judgment_image'].astype('Int64')\n/tmp/ipykernel_4165/3952862573.py:14: SettingWithCopyWarning: \nA value is trying to be set on a copy of a slice from a DataFrame.\nTry using .loc[row_indexer,col_indexer] = value instead\n\nSee the caveats in the documentation: https://pandas.pydata.org/pandas-docs/stable/user_guide/indexing.html#returning-a-view-versus-a-copy\n  df['chargeoffamt_present'] = df['chargeoffamt_present'].astype('Int64')\n/tmp/ipykernel_4165/3952862573.py:15: SettingWithCopyWarning: \nA value is trying to be set on a copy of a slice from a DataFrame.\nTry using .loc[row_indexer,col_indexer] = value instead\n\nSee the caveats in the documentation: https://pandas.pydata.org/pandas-docs/stable/user_guide/indexing.html#returning-a-view-versus-a-copy\n  df['judgment_active'] = df['judgment_active'].astype('Int64')\n/tmp/ipykernel_4165/3952862573.py:16: SettingWithCopyWarning: \nA value is trying to be set on a copy of a slice from a DataFrame.\nTry using .loc[row_indexer,col_indexer] = value instead\n\nSee the caveats in the documentation: https://pandas.pydata.org/pandas-docs/stable/user_guide/indexing.html#returning-a-view-versus-a-copy\n  df['acct_post_judgment'] = df['acct_post_judgment'].astype('Int64')\n/tmp/ipykernel_4165/3952862573.py:17: SettingWithCopyWarning: \nA value is trying to be set on a copy of a slice from a DataFrame.\nTry using .loc[row_indexer,col_indexer] = value instead\n\nSee the caveats in the documentation: https://pandas.pydata.org/pandas-docs/stable/user_guide/indexing.html#returning-a-view-versus-a-copy\n  df['judgment_amount_present'] = df['judgment_amount_present'].astype('Int64')\n/tmp/ipykernel_4165/3952862573.py:18: SettingWithCopyWarning: \nA value is trying to be set on a copy of a slice from a DataFrame.\nTry using .loc[row_indexer,col_indexer] = value instead\n\nSee the caveats in the documentation: https://pandas.pydata.org/pandas-docs/stable/user_guide/indexing.html#returning-a-view-versus-a-copy\n  df['chargeoff_precovid(2020-03-01)'] = df['chargeoff_precovid(2020-03-01)'].astype('Int64')\n/tmp/ipykernel_4165/3952862573.py:19: SettingWithCopyWarning: \nA value is trying to be set on a copy of a slice from a DataFrame.\nTry using .loc[row_indexer,col_indexer] = value instead\n\nSee the caveats in the documentation: https://pandas.pydata.org/pandas-docs/stable/user_guide/indexing.html#returning-a-view-versus-a-copy\n  df['judgment_precovid(2020-03-01)'] = df['judgment_precovid(2020-03-01)'].astype('Int64')\n/tmp/ipykernel_4165/3952862573.py:20: SettingWithCopyWarning: \nA value is trying to be set on a copy of a slice from a DataFrame.\nTry using .loc[row_indexer,col_indexer] = value instead\n\nSee the caveats in the documentation: https://pandas.pydata.org/pandas-docs/stable/user_guide/indexing.html#returning-a-view-versus-a-copy\n  df['min_payment_within_5_years_of_chargeoff'] = df['min_payment_within_5_years_of_chargeoff'].astype('Int64')\n/tmp/ipykernel_4165/3952862573.py:21: SettingWithCopyWarning: \nA value is trying to be set on a copy of a slice from a DataFrame.\nTry using .loc[row_indexer,col_indexer] = value instead\n\nSee the caveats in the documentation: https://pandas.pydata.org/pandas-docs/stable/user_guide/indexing.html#returning-a-view-versus-a-copy\n  df['closed_w_max_pmt_within_5_yrs_of_min_pmt'] = df['closed_w_max_pmt_within_5_yrs_of_min_pmt'].astype('Int64')\n/tmp/ipykernel_4165/3952862573.py:22: SettingWithCopyWarning: \nA value is trying to be set on a copy of a slice from a DataFrame.\nTry using .loc[row_indexer,col_indexer] = value instead\n\nSee the caveats in the documentation: https://pandas.pydata.org/pandas-docs/stable/user_guide/indexing.html#returning-a-view-versus-a-copy\n  df['max_pmt_within_5_yrs_of_min_pmt_within_5_yrs_of_chargeoff'] = df['max_pmt_within_5_yrs_of_min_pmt_within_5_yrs_of_chargeoff'].astype('Int64')\n"
        }
      ],
      "execution_count": 95,
      "metadata": {
        "jupyter": {
          "source_hidden": false,
          "outputs_hidden": false
        },
        "nteract": {
          "transient": {
            "deleting": false
          }
        },
        "gather": {
          "logged": 1712513961375
        },
        "id": "2jrnkzcZ3sDH",
        "editable": true,
        "run_control": {
          "frozen": false
        }
      }
    },
    {
      "cell_type": "code",
      "source": [
        "print(account_df.info())"
      ],
      "outputs": [
        {
          "output_type": "stream",
          "name": "stdout",
          "text": "<class 'pandas.core.frame.DataFrame'>\nRangeIndex: 146920 entries, 0 to 146919\nData columns (total 52 columns):\n #   Column                                                     Non-Null Count   Dtype         \n---  ------                                                     --------------   -----         \n 0   data_id                                                    146920 non-null  int64         \n 1   region                                                     146920 non-null  object        \n 2   data_state                                                 146920 non-null  object        \n 3   account_status                                             146920 non-null  object        \n 4   purchasegroup                                              146920 non-null  object        \n 5   consumer_dob                                               146920 non-null  datetime64[ns]\n 6   chargeoff_age                                              146920 non-null  int64         \n 7   working_age                                                146920 non-null  Int64         \n 8   agency_ever                                                146920 non-null  Int64         \n 9   legal_ever                                                 146920 non-null  Int64         \n 10  wage_garnishable_state                                     146920 non-null  Int64         \n 11  bank_account_found                                         146920 non-null  Int64         \n 12  FT_job_found                                               146920 non-null  Int64         \n 13  PT_job_found                                               146920 non-null  Int64         \n 14  verification_completed                                     146920 non-null  Int64         \n 15  contains_judgment_image                                    146920 non-null  Int64         \n 16  data_bal_total                                             146920 non-null  float64       \n 17  chargeoff_date                                             146920 non-null  object        \n 18  chargeoff_date_bom                                         146920 non-null  datetime64[ns]\n 19  chargeoffamt                                               103394 non-null  float64       \n 20  chargeoffamt_present                                       146920 non-null  Int64         \n 21  judgment_status                                            137281 non-null  object        \n 22  judgment_active                                            146920 non-null  Int64         \n 23  acct_post_judgment                                         146920 non-null  Int64         \n 24  judgment_date                                              134630 non-null  datetime64[ns]\n 25  days_between_chargeoff_and_judgment                        134630 non-null  float64       \n 26  judgment_amount                                            134189 non-null  float64       \n 27  judgment_amount_present                                    146920 non-null  Int64         \n 28  chargeoff_precovid(2020-03-01)                             146920 non-null  Int64         \n 29  judgment_precovid(2020-03-01)                              134630 non-null  Int64         \n 30  total_transactions                                         65164 non-null   float64       \n 31  num_payments                                               65164 non-null   float64       \n 32  num_reversals                                              65164 non-null   float64       \n 33  net_num_payments                                           65164 non-null   float64       \n 34  sum_pay_amount                                             65164 non-null   float64       \n 35  avg_pay_amount                                             65164 non-null   float64       \n 36  min_pay_date                                               65164 non-null   datetime64[ns]\n 37  max_pay_date                                               65164 non-null   datetime64[ns]\n 38  payment_duration_days                                      65164 non-null   float64       \n 39  avg_days_between_payments                                  65164 non-null   float64       \n 40  avg_monthly_payment(duration>=365days)                     16099 non-null   float64       \n 41  days_between_chargeoff_and_min_pay_date                    65164 non-null   float64       \n 42  days_between_chargeoff_and_max_pay_date                    65164 non-null   float64       \n 43  days_between_judgment_and_min_pay_date                     59303 non-null   float64       \n 44  days_between_judgment_and_max_pay_date                     59303 non-null   float64       \n 45  min_payment_within_5_years_of_chargeoff                    146920 non-null  Int64         \n 46  closed_w_max_pmt_within_5_yrs_of_min_pmt                   65164 non-null   Int64         \n 47  max_pmt_within_5_yrs_of_min_pmt_within_5_yrs_of_chargeoff  12134 non-null   Int64         \n 48  avg_pay_to_chargeoff_ratio                                 43396 non-null   float64       \n 49  avg_pay_to_judgment_ratio                                  59065 non-null   float64       \n 50  chargeoff_cutoff                                           146920 non-null  object        \n 51  1stpay_cutoff                                              146920 non-null  object        \ndtypes: Int64(18), datetime64[ns](5), float64(19), int64(2), object(8)\nmemory usage: 60.8+ MB\nNone\n"
        }
      ],
      "execution_count": 96,
      "metadata": {
        "jupyter": {
          "source_hidden": false,
          "outputs_hidden": false
        },
        "nteract": {
          "transient": {
            "deleting": false
          }
        },
        "gather": {
          "logged": 1712513961467
        },
        "colab": {
          "base_uri": "https://localhost:8080/"
        },
        "id": "MkMnjxsY3sDH",
        "outputId": "2b53d161-204c-41e1-b73e-1eee825549ca"
      }
    },
    {
      "cell_type": "code",
      "source": [
        "def count_unique_values(df, column_name, var_name):\n",
        "    value_counts = df[column_name].value_counts()\n",
        "    count_table = pd.DataFrame({column_name: value_counts.index, 'Count': value_counts.values})\n",
        "    # Add a row with the total count\n",
        "    total_count = df.shape[0]\n",
        "    count_table.loc[len(count_table)] = ['Total', total_count]\n",
        "    print(var_name)\n",
        "    print(count_table)\n",
        "    print()\n",
        "    return total_count\n",
        "\n",
        "print('============ obj1 =============')\n",
        "total_chargeoff_cutoff = count_unique_values(account_df, 'chargeoff_cutoff', 'account_df')\n",
        "removed_diff_first_repay_chargeoff = account_df['data_id'].count() - df_1stpay_5yr_chargeoff['data_id'].count()\n",
        "print('Removed:', removed_diff_first_repay_chargeoff, '\\n')\n",
        "\n",
        "total_obj1_train = count_unique_values(df_1stpay_5yr_chargeoff_train, 'min_payment_within_5_years_of_chargeoff', 'df_1stpay_5yr_chargeoff_train')\n",
        "total_obj1_predict = count_unique_values(df_1stpay_5yr_chargeoff_predict_temp, 'min_payment_within_5_years_of_chargeoff', 'df_1stpay_5yr_chargeoff_predict')\n",
        "\n",
        "\n",
        "print('obj1:', total_chargeoff_cutoff, '-', removed_diff_first_repay_chargeoff, '=', total_chargeoff_cutoff - removed_diff_first_repay_chargeoff)\n",
        "print('obj1:', total_obj1_train, '+', total_obj1_predict, '=', total_obj1_train + total_obj1_predict, '\\n')\n",
        "\n",
        "print('============ subobj1 =============')\n",
        "total_1stpay_cutoff = count_unique_values(account_df, '1stpay_cutoff', 'account_df')\n",
        "removed_1stpay_cutoff = account_df['data_id'].count() - df_close_5yr_1stpay['data_id'].count()\n",
        "print('Removed 1stpay_cutoff = NA:', removed_1stpay_cutoff, '\\n')\n",
        "\n",
        "total_subobj1_train = count_unique_values(df_close_5yr_1stpay_train, 'closed_w_max_pmt_within_5_yrs_of_min_pmt', 'df_close_5yr_1stpay_train')\n",
        "total_subobj1_predict = count_unique_values(df_close_5yr_1stpay_predict_temp, 'closed_w_max_pmt_within_5_yrs_of_min_pmt', 'df_close_5yr_1stpay_predict')\n",
        "\n",
        "print('subobj1:', total_1stpay_cutoff, '-', removed_1stpay_cutoff, '=', total_1stpay_cutoff - removed_1stpay_cutoff)\n",
        "print('subobj1:', total_subobj1_train, '+', total_subobj1_predict, '=', total_subobj1_train + total_subobj1_predict, '\\n')"
      ],
      "outputs": [
        {
          "output_type": "stream",
          "name": "stdout",
          "text": "============ obj1 =============\naccount_df\n  chargeoff_cutoff   Count\n0           Before  143491\n1            After    3429\n2            Total  146920\n\nRemoved: 0 \n\ndf_1stpay_5yr_chargeoff_train\n  min_payment_within_5_years_of_chargeoff   Count\n0                                       0  119898\n1                                       1   23593\n2                                   Total  143491\n\ndf_1stpay_5yr_chargeoff_predict\n  min_payment_within_5_years_of_chargeoff  Count\n0                                       0   2437\n1                                       1    992\n2                                   Total   3429\n\nobj1: 146920 - 0 = 146920\nobj1: 143491 + 3429 = 146920 \n\n============ subobj1 =============\naccount_df\n  1stpay_cutoff   Count\n0           N/A   81756\n1        Before   43461\n2         After   21703\n3         Total  146920\n\nRemoved 1stpay_cutoff = NA: 81756 \n\ndf_close_5yr_1stpay_train\n  closed_w_max_pmt_within_5_yrs_of_min_pmt  Count\n0                                        1  27955\n1                                        0  15506\n2                                    Total  43461\n\ndf_close_5yr_1stpay_predict\n  closed_w_max_pmt_within_5_yrs_of_min_pmt  Count\n0                                        1  16917\n1                                        0   4786\n2                                    Total  21703\n\nsubobj1: 146920 - 81756 = 65164\nsubobj1: 43461 + 21703 = 65164 \n\n"
        }
      ],
      "execution_count": 97,
      "metadata": {
        "jupyter": {
          "source_hidden": false,
          "outputs_hidden": false
        },
        "nteract": {
          "transient": {
            "deleting": false
          }
        },
        "gather": {
          "logged": 1712513961569
        },
        "colab": {
          "base_uri": "https://localhost:8080/",
          "height": 738
        },
        "id": "WLWP0Tg-3sDH",
        "outputId": "3d1f2a1c-09ef-4b64-c345-59f6558470ba"
      }
    },
    {
      "cell_type": "code",
      "source": [
        "# def output_df(df, dataset_name, csv_file_path, target_path='datasets/', datastore=datastore):\n",
        "def output_df(df, dataset_name, csv_file_path):\n",
        "    # Register  df as a dataset\n",
        "    # dataset = Dataset.Tabular.register_pandas_dataframe(df, datastore, dataset_name, show_progress=True)\n",
        "    # Save the df to a csv file\n",
        "    df.to_csv(csv_file_path, index=False)\n",
        "    # df.to_csv('/content/drive/MyDrive/consumer_debt/' + csv_file_path, index=False)\n",
        "\n",
        "    # Upload the local csv file to the path in datastore\n",
        "    datastore.upload_files(files=[csv_file_path], target_path='datasets/', overwrite=True, show_progress=True)\n",
        "    \n",
        "    dataset = Dataset.Tabular.from_delimited_files(path=(datastore, 'datasets/' + csv_file_path))\n",
        "\n",
        "# output_df(more_account_df, dataset_name='preprocessed_account_more',  csv_file_path='preprocessed_account_file_more.csv')\n",
        "# output_df(less_account_df, dataset_name='preprocessed_account_less',  csv_file_path='preprocessed_account_file_less.csv')\n",
        "# output_df(more_predict_df, dataset_name='preprocessed_account_for_predict_more',  csv_file_path='preprocessed_account_predict_file_more.csv')\n",
        "# output_df(less_predict_df, dataset_name='preprocessed_account_for_predict_less',  csv_file_path='preprocessed_account_predict_file_less.csv')\n",
        "\n",
        "output_df(account_df, dataset_name='preprocessed_account_df',  csv_file_path='preprocessed_account_df.csv')\n",
        "\n",
        "output_df(df_1stpay_5yr_chargeoff, dataset_name='df_1stpay_5yr_chargeoff',  csv_file_path='df_1stpay_5yr_chargeoff.csv')\n",
        "output_df(df_close_5yr_1stpay, dataset_name='df_close_5yr_1stpay',  csv_file_path='df_close_5yr_1stpay.csv')\n",
        "\n",
        "output_df(df_1stpay_5yr_chargeoff_train, dataset_name='df_1stpay_5yr_chargeoff_train',  csv_file_path='df_1stpay_5yr_chargeoff_train.csv')\n",
        "output_df(df_1stpay_5yr_chargeoff_predict, dataset_name='df_1stpay_5yr_chargeoff_predict',  csv_file_path='df_1stpay_5yr_chargeoff_predict.csv')\n",
        "output_df(df_close_5yr_1stpay_train, dataset_name='df_close_5yr_1stpay_train',  csv_file_path='df_close_5yr_1stpay_train.csv')\n",
        "output_df(df_close_5yr_1stpay_predict, dataset_name='df_close_5yr_1stpay_predict',  csv_file_path='df_close_5yr_1stpay_predict.csv')\n",
        "\n",
        "# output_df(df_1stpay_5yr_chargeoff_train_prob, dataset_name='df_1stpay_5yr_chargeoff_train_prob',  csv_file_path='df_1stpay_5yr_chargeoff_train_prob.csv')\n",
        "# output_df(df_close_5yr_1stpay_train_prob, dataset_name='df_close_5yr_1stpay_train_prob',  csv_file_path='df_close_5yr_1stpay_train_prob.csv')"
      ],
      "outputs": [
        {
          "output_type": "stream",
          "name": "stderr",
          "text": "\"datastore.upload_files\" is deprecated after version 1.0.69. Please use \"FileDatasetFactory.upload_directory\" instead. See Dataset API change notice at https://aka.ms/dataset-deprecation.\n"
        },
        {
          "output_type": "stream",
          "name": "stdout",
          "text": "Uploading an estimated of 1 files\nUploading preprocessed_account_df.csv\nUploaded preprocessed_account_df.csv, 1 files out of an estimated total of 1\nUploaded 1 files\nUploading an estimated of 1 files\nUploading df_1stpay_5yr_chargeoff.csv\nUploaded df_1stpay_5yr_chargeoff.csv, 1 files out of an estimated total of 1\nUploaded 1 files\nUploading an estimated of 1 files\nUploading df_close_5yr_1stpay.csv\nUploaded df_close_5yr_1stpay.csv, 1 files out of an estimated total of 1\nUploaded 1 files\nUploading an estimated of 1 files\nUploading df_1stpay_5yr_chargeoff_train.csv\nUploaded df_1stpay_5yr_chargeoff_train.csv, 1 files out of an estimated total of 1\nUploaded 1 files\nUploading an estimated of 1 files\nUploading df_1stpay_5yr_chargeoff_predict.csv\nUploaded df_1stpay_5yr_chargeoff_predict.csv, 1 files out of an estimated total of 1\nUploaded 1 files\nUploading an estimated of 1 files\nUploading df_close_5yr_1stpay_train.csv\nUploaded df_close_5yr_1stpay_train.csv, 1 files out of an estimated total of 1\nUploaded 1 files\nUploading an estimated of 1 files\nUploading df_close_5yr_1stpay_predict.csv\nUploaded df_close_5yr_1stpay_predict.csv, 1 files out of an estimated total of 1\nUploaded 1 files\n"
        }
      ],
      "execution_count": 99,
      "metadata": {
        "jupyter": {
          "source_hidden": false,
          "outputs_hidden": false
        },
        "nteract": {
          "transient": {
            "deleting": false
          }
        },
        "gather": {
          "logged": 1712514353459
        },
        "editable": true,
        "run_control": {
          "frozen": false
        },
        "id": "EO7t6mlg3sDH"
      }
    }
  ],
  "metadata": {
    "kernelspec": {
      "name": "python310-sdkv2",
      "language": "python",
      "display_name": "Python 3.10 - SDK v2"
    },
    "language_info": {
      "name": "python",
      "version": "3.10.11",
      "mimetype": "text/x-python",
      "codemirror_mode": {
        "name": "ipython",
        "version": 3
      },
      "pygments_lexer": "ipython3",
      "nbconvert_exporter": "python",
      "file_extension": ".py"
    },
    "nteract": {
      "version": "nteract-front-end@1.0.0"
    },
    "microsoft": {
      "ms_spell_check": {
        "ms_spell_check_language": "en"
      },
      "host": {
        "AzureML": {
          "notebookHasBeenCompleted": true
        }
      }
    },
    "kernel_info": {
      "name": "python310-sdkv2"
    },
    "colab": {
      "provenance": []
    }
  },
  "nbformat": 4,
  "nbformat_minor": 0
}